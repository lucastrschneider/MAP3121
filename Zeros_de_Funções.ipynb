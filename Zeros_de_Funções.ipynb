{
  "nbformat": 4,
  "nbformat_minor": 0,
  "metadata": {
    "colab": {
      "name": "Zeros de Funções.ipynb",
      "provenance": [],
      "include_colab_link": true
    },
    "kernelspec": {
      "name": "python3",
      "display_name": "Python 3"
    },
    "language_info": {
      "name": "python"
    }
  },
  "cells": [
    {
      "cell_type": "markdown",
      "metadata": {
        "id": "view-in-github",
        "colab_type": "text"
      },
      "source": [
        "<a href=\"https://colab.research.google.com/github/lucastrschneider/MAP3121/blob/main/Zeros_de_Fun%C3%A7%C3%B5es.ipynb\" target=\"_parent\"><img src=\"https://colab.research.google.com/assets/colab-badge.svg\" alt=\"Open In Colab\"/></a>"
      ]
    },
    {
      "cell_type": "markdown",
      "metadata": {
        "id": "iJcRJrxssyda"
      },
      "source": [
        "# Método de Newton-Rhapsody"
      ]
    },
    {
      "cell_type": "code",
      "metadata": {
        "id": "qSkXaFXm0WKw"
      },
      "source": [
        "import math"
      ],
      "execution_count": 1,
      "outputs": []
    },
    {
      "cell_type": "code",
      "metadata": {
        "id": "fWTIvwQ1sxes"
      },
      "source": [
        "class NewtonRhaphson:\n",
        "  def __init__(self, f, f_dot, start_point, epsilon_x=1e-5, epsilon_y=None, i_max=None, print_iteration=True):\n",
        "    self.f = f\n",
        "    self.f_dot = f_dot\n",
        "    self.epsilon_x = epsilon_x\n",
        "    self.epsilon_y = epsilon_y\n",
        "    self.i_max = i_max\n",
        "    self.print_iteration = print_iteration\n",
        "\n",
        "    self.p_i = start_point\n",
        "\n",
        "    self.i = 0\n",
        "\n",
        "  def iterate_once(self):\n",
        "    last_p_i = self.p_i\n",
        "    self.p_i = self.p_i - (self.f(self.p_i) / self.f_dot(self.p_i))\n",
        "    self.i += 1\n",
        "\n",
        "    x_variation = abs(self.p_i - last_p_i)\n",
        "    y_error = self.f(self.p_i)\n",
        "    stop_condition = (False, False)\n",
        "\n",
        "    if self.epsilon_x:\n",
        "      if x_variation < self.epsilon_x:\n",
        "        stop_condition = (True, stop_condition[1])\n",
        "\n",
        "    if self.epsilon_y:\n",
        "      if y_error < self.epsilon_y:\n",
        "        stop_condition = (stop_condition[0], True)\n",
        "\n",
        "\n",
        "    if self.print_iteration:\n",
        "      print(f'Iteração {self.i}\\np = {self.p_i}\\nf(p) = {y_error}\\nVariação em p = {x_variation}\\n')\n",
        "\n",
        "    return stop_condition\n",
        "\n",
        "  def iterate(self):\n",
        "    print(f'Começando o método com p_0 = {self.p_i}\\n-------')\n",
        "    running = True\n",
        "    \n",
        "    while(running):\n",
        "      x_condition, y_condition = self.iterate_once()\n",
        "\n",
        "      if x_condition:\n",
        "        print(f'A variação em p foi menor que {self.epsilon_x}\\n')\n",
        "        running = False\n",
        "\n",
        "      if y_condition:\n",
        "        print(f'O erro de f(p) foi menor que {self.epsilon_y}\\n')\n",
        "        running = False\n",
        "\n",
        "      if self.i >= self.i_max:\n",
        "        print(f'Excedeu o número máximo de iterações ({self.i})\\n')\n",
        "        running = False\n",
        "\n",
        "    print('-------')\n",
        "    print(f'p = {self.p_i}')"
      ],
      "execution_count": 2,
      "outputs": []
    },
    {
      "cell_type": "code",
      "metadata": {
        "id": "I23_P217SB2Z"
      },
      "source": [
        "class SecantMethod:\n",
        "  def __init__(self, f, p_0, p_1, epsilon_x=1e-5, epsilon_y=None, i_max=None, print_iteration=True):\n",
        "    self.f = f\n",
        "    self.epsilon_x = epsilon_x\n",
        "    self.epsilon_y = epsilon_y\n",
        "    self.i_max = i_max\n",
        "    self.print_iteration = print_iteration\n",
        "\n",
        "    self.p_im1 = p_0\n",
        "    self.p_i = p_1\n",
        "\n",
        "    self.i = 1\n",
        "\n",
        "  def iterate_once(self):\n",
        "    last_p_i = self.p_i\n",
        "    self.p_i = self.p_i - (self.f(self.p_i) * (self.p_im1 - self.p_i) / (self.f(self.p_im1) - self.f(self.p_i)))\n",
        "    self.p_im1 = last_p_i\n",
        "    self.i += 1\n",
        "\n",
        "    x_variation = abs(self.p_i - last_p_i)\n",
        "    y_error = self.f(self.p_i)\n",
        "    stop_condition = (False, False)\n",
        "\n",
        "    if self.epsilon_x:\n",
        "      if x_variation < self.epsilon_x:\n",
        "        stop_condition = (True, stop_condition[1])\n",
        "\n",
        "    if self.epsilon_y:\n",
        "      if y_error < self.epsilon_y:\n",
        "        stop_condition = (stop_condition[0], True)\n",
        "\n",
        "\n",
        "    if self.print_iteration:\n",
        "      print(f'Iteração {self.i}\\np = {self.p_i}\\nf(p) = {y_error}\\nVariação em p = {x_variation}\\n')\n",
        "\n",
        "    return stop_condition\n",
        "\n",
        "  def iterate(self):\n",
        "    print(f'Começando o método com:\\np_0 = {self.p_im1}\\np_1 = {self.p_i}')\n",
        "    print('-------')\n",
        "    running = True\n",
        "    \n",
        "    while(running):\n",
        "      x_condition, y_condition = self.iterate_once()\n",
        "\n",
        "      if x_condition:\n",
        "        print(f'A variação em p foi menor que {self.epsilon_x}\\n')\n",
        "        running = False\n",
        "\n",
        "      if y_condition:\n",
        "        print(f'O erro de f(p) foi menor que {self.epsilon_y}\\n')\n",
        "        running = False\n",
        "\n",
        "      if self.i >= self.i_max:\n",
        "        print(f'Excedeu o número máximo de iterações ({self.i})\\n')\n",
        "        running = False\n",
        "\n",
        "    print('-------')\n",
        "    print(f'p = {self.p_i}')"
      ],
      "execution_count": 3,
      "outputs": []
    },
    {
      "cell_type": "markdown",
      "metadata": {
        "id": "xFPTrtO97f3Q"
      },
      "source": [
        "## Testes"
      ]
    },
    {
      "cell_type": "markdown",
      "metadata": {
        "id": "6HOWmDCW3pJu"
      },
      "source": [
        "Teste com a função 1/x - π\n",
        "\n",
        "A raíz da função deve aproximar o valor de 1/π"
      ]
    },
    {
      "cell_type": "code",
      "metadata": {
        "id": "cKdcV_31xLVL"
      },
      "source": [
        "def my_func(x):\n",
        "  return 1/x - math.pi\n",
        "\n",
        "def my_func_dot(x):\n",
        "  return -1/(x**2)"
      ],
      "execution_count": null,
      "outputs": []
    },
    {
      "cell_type": "code",
      "metadata": {
        "colab": {
          "base_uri": "https://localhost:8080/"
        },
        "id": "noPGeDvZxuG5",
        "outputId": "da326e61-b9db-4a50-bcb4-12299e1dba93"
      },
      "source": [
        "solver = NewtonRhaphson(my_func, my_func_dot, 0.1,\n",
        "                        None, None, 6)\n",
        "\n",
        "solver.iterate()"
      ],
      "execution_count": null,
      "outputs": [
        {
          "output_type": "stream",
          "text": [
            "Começando o método com p_0 = 0.1\n",
            "-------\n",
            "Iteração 1\n",
            "p = 0.1685840734641021\n",
            "f(p) = 2.790165782730929\n",
            "Variação em p = 0.06858407346410209\n",
            "\n",
            "Iteração 2\n",
            "p = 0.24788223072093987\n",
            "f(p) = 0.89258114374777\n",
            "Variação em p = 0.07929815725683778\n",
            "\n",
            "Iteração 3\n",
            "p = 0.3027274149213992\n",
            "f(p) = 0.16170909811856182\n",
            "Variação em p = 0.054845184200459335\n",
            "\n",
            "Iteração 4\n",
            "p = 0.3175470653567207\n",
            "f(p) = 0.007546825550524883\n",
            "Variação em p = 0.014819650435321519\n",
            "\n",
            "Iteração 5\n",
            "p = 0.31830805810480395\n",
            "f(p) = 1.8042520032679477e-05\n",
            "Variação em p = 0.0007609927480832224\n",
            "\n",
            "Iteração 6\n",
            "p = 0.31830988617329187\n",
            "f(p) = 1.0361933533431511e-10\n",
            "Variação em p = 1.8280684879190545e-06\n",
            "\n",
            "Excedeu o número máximo de iterações (6)\n",
            "\n",
            "-------\n",
            "p = 0.31830988617329187\n"
          ],
          "name": "stdout"
        }
      ]
    },
    {
      "cell_type": "markdown",
      "metadata": {
        "id": "K29KXUAP5QNe"
      },
      "source": [
        "Teste com a função f(x) = x² - 2"
      ]
    },
    {
      "cell_type": "code",
      "metadata": {
        "id": "ZEXRzJBA5ZE0"
      },
      "source": [
        "def my_func(x):\n",
        "  return x**2 - 2\n",
        "\n",
        "def my_func_dot(x):\n",
        "  return 2*x"
      ],
      "execution_count": null,
      "outputs": []
    },
    {
      "cell_type": "code",
      "metadata": {
        "colab": {
          "base_uri": "https://localhost:8080/"
        },
        "id": "-EquqDRj5kca",
        "outputId": "d114203a-c311-4a13-94f0-a166b1ac6255"
      },
      "source": [
        "solver = NewtonRhaphson(my_func, my_func_dot, 5,\n",
        "                        None, None, 5)\n",
        "\n",
        "solver.iterate()"
      ],
      "execution_count": null,
      "outputs": [
        {
          "output_type": "stream",
          "text": [
            "Começando o método com p_0 = 5\n",
            "-------\n",
            "Iteração 1\n",
            "p = 2.7\n",
            "f(p) = 5.290000000000001\n",
            "Variação em p = 2.3\n",
            "\n",
            "Iteração 2\n",
            "p = 1.7203703703703703\n",
            "f(p) = 0.9596742112482852\n",
            "Variação em p = 0.9796296296296299\n",
            "\n",
            "Iteração 3\n",
            "p = 1.44145536817765\n",
            "f(p) = 0.0777935784481647\n",
            "Variação em p = 0.27891500219272025\n",
            "\n",
            "Iteração 4\n",
            "p = 1.414470981367771\n",
            "f(p) = 0.0007281571315052027\n",
            "Variação em p = 0.026984386809879135\n",
            "\n",
            "Iteração 5\n",
            "p = 1.4142135857968836\n",
            "f(p) = 6.625247950253765e-08\n",
            "Variação em p = 0.000257395570887331\n",
            "\n",
            "Excedeu o número máximo de iterações (5)\n",
            "\n",
            "-------\n",
            "p = 1.4142135857968836\n"
          ],
          "name": "stdout"
        }
      ]
    },
    {
      "cell_type": "code",
      "metadata": {
        "colab": {
          "base_uri": "https://localhost:8080/"
        },
        "id": "k4wyyRWeUCqJ",
        "outputId": "b8d9a15e-9d5b-4fd7-f572-94f20836ccfe"
      },
      "source": [
        "solver = SecantMethod(my_func, 5, 2.7,\n",
        "                        None, None, 5)\n",
        "\n",
        "solver.iterate()"
      ],
      "execution_count": null,
      "outputs": [
        {
          "output_type": "stream",
          "text": [
            "Começando o método com:\n",
            "p_0 = 5\n",
            "p_1 = 2.7\n",
            "-------\n",
            "Iteração 2\n",
            "p = 2.012987012987013\n",
            "f(p) = 2.0521167144543773\n",
            "Variação em p = 0.6870129870129871\n",
            "\n",
            "Iteração 3\n",
            "p = 1.5775695783962524\n",
            "f(p) = 0.4887257746813298\n",
            "Variação em p = 0.43541743459076065\n",
            "\n",
            "Iteração 4\n",
            "p = 1.44145536817765\n",
            "f(p) = 0.0777935784481647\n",
            "Variação em p = 0.13611421021860237\n",
            "\n",
            "Iteração 5\n",
            "p = 1.4156875855906106\n",
            "f(p) = 0.004171339995372225\n",
            "Variação em p = 0.02576778258703949\n",
            "\n",
            "Excedeu o número máximo de iterações (5)\n",
            "\n",
            "-------\n",
            "p = 1.4156875855906106\n"
          ],
          "name": "stdout"
        }
      ]
    },
    {
      "cell_type": "markdown",
      "metadata": {
        "id": "XL5dJsgX4g6L"
      },
      "source": [
        "## Exercícios do teste\n",
        "\n",
        "3)"
      ]
    },
    {
      "cell_type": "code",
      "metadata": {
        "id": "uqy3hgTT4gos"
      },
      "source": [
        "def f_x(x):\n",
        "  return 125 * x**3 + (225) * x**2 - (240) * x - 198\n",
        "\n",
        "def f_x_dot(x):\n",
        "  return 375*x**2 + 450*x - 240"
      ],
      "execution_count": null,
      "outputs": []
    },
    {
      "cell_type": "code",
      "metadata": {
        "id": "en0LRGe5Z_Mg"
      },
      "source": [
        "solver = NewtonRhaphson(f_x, f_x_dot, 39/100,\n",
        "                        None, None, 5)\n",
        "\n",
        "solver.iterate()"
      ],
      "execution_count": null,
      "outputs": []
    },
    {
      "cell_type": "markdown",
      "metadata": {
        "id": "yNXNfv_grgxV"
      },
      "source": [
        "4)"
      ]
    },
    {
      "cell_type": "code",
      "metadata": {
        "id": "obtxFSiCriaO"
      },
      "source": [
        "def intersection_height(L, x, y):\n",
        "  # print(L)\n",
        "  hx = math.sqrt(x**2 - L**2)\n",
        "  hy = math.sqrt(y**2 - L**2)\n",
        "  return hx * hy / (hx + hy)"
      ],
      "execution_count": 81,
      "outputs": []
    },
    {
      "cell_type": "code",
      "metadata": {
        "id": "PP5CWpUr0WgF"
      },
      "source": [
        "length_x = 9\n",
        "length_y = 4\n",
        "target_height = 1\n",
        "\n",
        "step = 0.1\n",
        "\n",
        "def my_func(x):\n",
        "  return intersection_height(x, length_x, length_y) - target_height\n"
      ],
      "execution_count": 82,
      "outputs": []
    },
    {
      "cell_type": "code",
      "metadata": {
        "id": "bP0fCN1b2qon",
        "outputId": "49e794f2-a294-4b47-e693-4759f4b7f93b",
        "colab": {
          "base_uri": "https://localhost:8080/",
          "height": 282
        }
      },
      "source": [
        "import matplotlib.pyplot as plt\n",
        "\n",
        "x_values = []\n",
        "y_values = []\n",
        "\n",
        "i = step\n",
        "while i < min(length_x, length_y):\n",
        "  x_values.append(i)\n",
        "  y_values.append(my_func(i))\n",
        "  i += step\n",
        "\n",
        "plt.plot(x_values,y_values)"
      ],
      "execution_count": 83,
      "outputs": [
        {
          "output_type": "execute_result",
          "data": {
            "text/plain": [
              "[<matplotlib.lines.Line2D at 0x7f7bbe370490>]"
            ]
          },
          "metadata": {
            "tags": []
          },
          "execution_count": 83
        },
        {
          "output_type": "display_data",
          "data": {
            "image/png": "[encoded data removed]",
            "text/plain": [
              "<Figure size 432x288 with 1 Axes>"
            ]
          },
          "metadata": {
            "tags": [],
            "needs_background": "light"
          }
        }
      ]
    },
    {
      "cell_type": "code",
      "metadata": {
        "id": "t6_Lz9ZR07hY",
        "outputId": "8ca5f1b6-40da-4855-e8ff-ed4f8bbe8949",
        "colab": {
          "base_uri": "https://localhost:8080/"
        }
      },
      "source": [
        "solver = SecantMethod(my_func, min(length_x, length_y), min(length_x, length_y) - step,\n",
        "                        1e-25, None, 10)\n",
        "\n",
        "solver.iterate()"
      ],
      "execution_count": 86,
      "outputs": [
        {
          "output_type": "stream",
          "text": [
            "Começando o método com:\n",
            "p_0 = 4\n",
            "p_1 = 3.9\n",
            "-------\n",
            "Iteração 2\n",
            "p = 3.875162431216476\n",
            "f(p) = -0.1163404891427876\n",
            "Variação em p = 0.024837568783524056\n",
            "\n",
            "Iteração 3\n",
            "p = 3.840187075118578\n",
            "f(p) = -0.015966137667666747\n",
            "Variação em p = 0.034975356097898036\n",
            "\n",
            "Iteração 4\n",
            "p = 3.8346236882350957\n",
            "f(p) = -0.001340218770237378\n",
            "Variação em p = 0.005563386883482124\n",
            "\n",
            "Iteração 5\n",
            "p = 3.83411389766538\n",
            "f(p) = -1.5983178335066128e-05\n",
            "Variação em p = 0.0005097905697155625\n",
            "\n",
            "Iteração 6\n",
            "p = 3.834107744626118\n",
            "f(p) = -1.60804807247672e-08\n",
            "Variação em p = 6.153039262102311e-06\n",
            "\n",
            "Iteração 7\n",
            "p = 3.834107738429386\n",
            "f(p) = -1.936228954946273e-13\n",
            "Variação em p = 6.196732016405804e-09\n",
            "\n",
            "Iteração 8\n",
            "p = 3.8341077384293114\n",
            "f(p) = 0.0\n",
            "Variação em p = 7.460698725481052e-14\n",
            "\n",
            "Iteração 9\n",
            "p = 3.8341077384293114\n",
            "f(p) = 0.0\n",
            "Variação em p = 0.0\n",
            "\n",
            "A variação em p foi menor que 1e-25\n",
            "\n",
            "-------\n",
            "p = 3.8341077384293114\n"
          ],
          "name": "stdout"
        }
      ]
    },
    {
      "cell_type": "markdown",
      "metadata": {
        "id": "hoct1Y326CZU"
      },
      "source": [
        "5)"
      ]
    },
    {
      "cell_type": "code",
      "metadata": {
        "id": "um6Eu_8S6DqY"
      },
      "source": [
        "def mountain(x):\n",
        "  return (31/75000)*x**3 - (47/500)*x**2 + (173/30)*x\n",
        "\n",
        "angle = 52 * math.pi / 180\n",
        "initial_speed = 41\n",
        "\n",
        "def rocket(x):\n",
        "  delta_t = (x+50) / (initial_speed * math.cos(angle))\n",
        "  return (initial_speed * math.sin(angle))*delta_t - 5 * delta_t**2"
      ],
      "execution_count": 54,
      "outputs": []
    },
    {
      "cell_type": "code",
      "metadata": {
        "id": "gglv8CRr9nGE"
      },
      "source": [
        "def my_func(x):\n",
        "  return mountain(x) - rocket(x)"
      ],
      "execution_count": 55,
      "outputs": []
    },
    {
      "cell_type": "code",
      "metadata": {
        "id": "X7tOIhn89n32"
      },
      "source": [
        "solver = SecantMethod(my_func, 8, 8.9,\n",
        "                        None, None, 8)\n",
        "\n",
        "solver.iterate()"
      ],
      "execution_count": null,
      "outputs": []
    },
    {
      "cell_type": "markdown",
      "metadata": {
        "id": "d8oasu__CXmT"
      },
      "source": [
        "6)"
      ]
    },
    {
      "cell_type": "code",
      "metadata": {
        "id": "3h6U-d_KCZUX"
      },
      "source": [
        "def f_x(x):\n",
        "  return x*math.sin(x)\n",
        "\n",
        "def f_x_dot(x):\n",
        "  return math.sin(x) + math.cos(x)*x"
      ],
      "execution_count": 58,
      "outputs": []
    },
    {
      "cell_type": "code",
      "metadata": {
        "id": "r7vkWtTICqh_"
      },
      "source": [
        "solver = NewtonRhaphson(f_x, f_x_dot, 0.1,\n",
        "                        None, None, 200)\n",
        "\n",
        "solver.iterate()"
      ],
      "execution_count": null,
      "outputs": []
    },
    {
      "cell_type": "code",
      "metadata": {
        "id": "NEguZ5bSD7v_"
      },
      "source": [
        "class MAS:\n",
        "  def __init__(self, f, phi, start_point, epsilon_x=1e-5, epsilon_y=None, i_max=None, print_iteration=True):\n",
        "    self.f = f\n",
        "    self.phi = phi\n",
        "    self.epsilon_x = epsilon_x\n",
        "    self.epsilon_y = epsilon_y\n",
        "    self.i_max = i_max\n",
        "    self.print_iteration = print_iteration\n",
        "\n",
        "    self.p_i = start_point\n",
        "\n",
        "    self.i = 0\n",
        "\n",
        "  def iterate_once(self):\n",
        "    last_p_i = self.p_i\n",
        "    self.p_i = self.phi(self.p_i)\n",
        "    self.i += 1\n",
        "\n",
        "    x_variation = abs(self.p_i - last_p_i)\n",
        "    y_error = self.f(self.p_i)\n",
        "    stop_condition = (False, False)\n",
        "\n",
        "    if self.epsilon_x:\n",
        "      if x_variation < self.epsilon_x:\n",
        "        stop_condition = (True, stop_condition[1])\n",
        "\n",
        "    if self.epsilon_y:\n",
        "      if y_error < self.epsilon_y:\n",
        "        stop_condition = (stop_condition[0], True)\n",
        "\n",
        "\n",
        "    if self.print_iteration:\n",
        "      print(f'Iteração {self.i}\\np = {self.p_i}\\nf(p) = {y_error}\\nVariação em p = {x_variation}\\n')\n",
        "\n",
        "    return stop_condition\n",
        "\n",
        "  def iterate(self):\n",
        "    print(f'Começando o método com p_0 = {self.p_i}\\n-------')\n",
        "    running = True\n",
        "    \n",
        "    while(running):\n",
        "      x_condition, y_condition = self.iterate_once()\n",
        "\n",
        "      if x_condition:\n",
        "        print(f'A variação em p foi menor que {self.epsilon_x}\\n')\n",
        "        running = False\n",
        "\n",
        "      if y_condition:\n",
        "        print(f'O erro de f(p) foi menor que {self.epsilon_y}\\n')\n",
        "        running = False\n",
        "\n",
        "      if self.i >= self.i_max:\n",
        "        print(f'Excedeu o número máximo de iterações ({self.i})\\n')\n",
        "        running = False\n",
        "\n",
        "    print('-------')\n",
        "    print(f'p = {self.p_i}')"
      ],
      "execution_count": 62,
      "outputs": []
    },
    {
      "cell_type": "code",
      "metadata": {
        "id": "NrNveSoWENrK"
      },
      "source": [
        "def pol(x):\n",
        "  return x**3 - 3*x**2 + 4\n",
        "\n",
        "def phi(x):\n",
        "  return (x+2)/x"
      ],
      "execution_count": 64,
      "outputs": []
    },
    {
      "cell_type": "code",
      "metadata": {
        "id": "Tky7RrTDEcZS"
      },
      "source": [
        "solver = MAS(pol, phi, 2.1,\n",
        "              None, None, 25)\n",
        "\n",
        "solver.iterate()"
      ],
      "execution_count": null,
      "outputs": []
    }
  ]
}