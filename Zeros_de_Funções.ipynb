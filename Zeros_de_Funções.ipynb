{
  "nbformat": 4,
  "nbformat_minor": 0,
  "metadata": {
    "colab": {
      "name": "Zeros de Funções.ipynb",
      "provenance": [],
      "authorship_tag": "ABX9TyMahK2cj3e1MXBN5gj6Fxgr",
      "include_colab_link": true
    },
    "kernelspec": {
      "name": "python3",
      "display_name": "Python 3"
    },
    "language_info": {
      "name": "python"
    }
  },
  "cells": [
    {
      "cell_type": "markdown",
      "metadata": {
        "id": "view-in-github",
        "colab_type": "text"
      },
      "source": [
        "<a href=\"https://colab.research.google.com/github/lucastrschneider/MAP3121/blob/main/Zeros_de_Fun%C3%A7%C3%B5es.ipynb\" target=\"_parent\"><img src=\"https://colab.research.google.com/assets/colab-badge.svg\" alt=\"Open In Colab\"/></a>"
      ]
    },
    {
      "cell_type": "markdown",
      "metadata": {
        "id": "iJcRJrxssyda"
      },
      "source": [
        "# Método de Newton-Rhapsody"
      ]
    },
    {
      "cell_type": "code",
      "metadata": {
        "id": "qSkXaFXm0WKw"
      },
      "source": [
        "import math"
      ],
      "execution_count": 87,
      "outputs": []
    },
    {
      "cell_type": "code",
      "metadata": {
        "id": "fWTIvwQ1sxes"
      },
      "source": [
        "class NewtonRhaphson:\n",
        "  def __init__(self, f, f_dot, start_point, epsilon_x=1e-5, epsilon_y=None, i_max=None, print_iteration=True):\n",
        "    self.f = f\n",
        "    self.f_dot = f_dot\n",
        "    self.epsilon_x = epsilon_x\n",
        "    self.epsilon_y = epsilon_y\n",
        "    self.i_max = i_max\n",
        "    self.print_iteration = print_iteration\n",
        "\n",
        "    self.p_i = start_point\n",
        "\n",
        "    self.i = 0\n",
        "\n",
        "  def iterate_once(self):\n",
        "    last_p_i = self.p_i\n",
        "    self.p_i = self.p_i - (self.f(self.p_i) / self.f_dot(self.p_i))\n",
        "    self.i += 1\n",
        "\n",
        "    x_variation = abs(self.p_i - last_p_i)\n",
        "    y_error = self.f(self.p_i)\n",
        "    stop_condition = (False, False)\n",
        "\n",
        "    if self.epsilon_x:\n",
        "      if x_variation < self.epsilon_x:\n",
        "        stop_condition = (True, stop_condition[1])\n",
        "\n",
        "    if self.epsilon_y:\n",
        "      if y_error < self.epsilon_y:\n",
        "        stop_condition = (stop_condition[0], True)\n",
        "\n",
        "\n",
        "    if self.print_iteration:\n",
        "      print(f'Iteração {self.i}\\np = {self.p_i}\\nf(p) = {y_error}\\nVariação em p = {x_variation}\\n')\n",
        "\n",
        "    return stop_condition\n",
        "\n",
        "  def iterate(self):\n",
        "    print(f'Começando o método com p_0 = {self.p_i}\\n-------')\n",
        "    running = True\n",
        "    \n",
        "    while(running):\n",
        "      x_condition, y_condition = self.iterate_once()\n",
        "\n",
        "      if x_condition:\n",
        "        print(f'A variação em p foi menor que {self.epsilon_x}\\n')\n",
        "        running = False\n",
        "\n",
        "      if y_condition:\n",
        "        print(f'O erro de f(p) foi menor que {self.epsilon_y}\\n')\n",
        "        running = False\n",
        "\n",
        "      if self.i >= self.i_max:\n",
        "        print(f'Excedeu o número máximo de iterações ({self.i})\\n')\n",
        "        running = False\n",
        "\n",
        "    print('-------')\n",
        "    print(f'p = {self.p_i}')"
      ],
      "execution_count": 93,
      "outputs": []
    },
    {
      "cell_type": "code",
      "metadata": {
        "id": "I23_P217SB2Z"
      },
      "source": [
        "class SecantMethod:\n",
        "  def __init__(self, f, p_0, p_1, epsilon_x=1e-5, epsilon_y=None, i_max=None, print_iteration=True):\n",
        "    self.f = f\n",
        "    self.epsilon_x = epsilon_x\n",
        "    self.epsilon_y = epsilon_y\n",
        "    self.i_max = i_max\n",
        "    self.print_iteration = print_iteration\n",
        "\n",
        "    self.p_im1 = p_0\n",
        "    self.p_i = p_1\n",
        "\n",
        "    self.i = 1\n",
        "\n",
        "  def iterate_once(self):\n",
        "    last_p_i = self.p_i\n",
        "    self.p_i = self.p_i - (self.f(self.p_i) * (self.p_im1 - self.p_i) / (self.f(self.p_im1) - self.f(self.p_i)))\n",
        "    self.p_im1 = last_p_i\n",
        "    self.i += 1\n",
        "\n",
        "    x_variation = abs(self.p_i - last_p_i)\n",
        "    y_error = self.f(self.p_i)\n",
        "    stop_condition = (False, False)\n",
        "\n",
        "    if self.epsilon_x:\n",
        "      if x_variation < self.epsilon_x:\n",
        "        stop_condition = (True, stop_condition[1])\n",
        "\n",
        "    if self.epsilon_y:\n",
        "      if y_error < self.epsilon_y:\n",
        "        stop_condition = (stop_condition[0], True)\n",
        "\n",
        "\n",
        "    if self.print_iteration:\n",
        "      print(f'Iteração {self.i}\\np = {self.p_i}\\nf(p) = {y_error}\\nVariação em p = {x_variation}\\n')\n",
        "\n",
        "    return stop_condition\n",
        "\n",
        "  def iterate(self):\n",
        "    print(f'Começando o método com:\\np_0 = {self.p_im1}\\np_1 = {self.p_i}')\n",
        "    print('-------')\n",
        "    running = True\n",
        "    \n",
        "    while(running):\n",
        "      x_condition, y_condition = self.iterate_once()\n",
        "\n",
        "      if x_condition:\n",
        "        print(f'A variação em p foi menor que {self.epsilon_x}\\n')\n",
        "        running = False\n",
        "\n",
        "      if y_condition:\n",
        "        print(f'O erro de f(p) foi menor que {self.epsilon_y}\\n')\n",
        "        running = False\n",
        "\n",
        "      if self.i >= self.i_max:\n",
        "        print(f'Excedeu o número máximo de iterações ({self.i})\\n')\n",
        "        running = False\n",
        "\n",
        "    print('-------')\n",
        "    print(f'p = {self.p_i}')"
      ],
      "execution_count": 107,
      "outputs": []
    },
    {
      "cell_type": "markdown",
      "metadata": {
        "id": "xFPTrtO97f3Q"
      },
      "source": [
        "## Testes"
      ]
    },
    {
      "cell_type": "markdown",
      "metadata": {
        "id": "6HOWmDCW3pJu"
      },
      "source": [
        "Teste com a função 1/x - π\n",
        "\n",
        "A raíz da função deve aproximar o valor de 1/π"
      ]
    },
    {
      "cell_type": "code",
      "metadata": {
        "id": "cKdcV_31xLVL"
      },
      "source": [
        "def my_func(x):\n",
        "  return 1/x - math.pi\n",
        "\n",
        "def my_func_dot(x):\n",
        "  return -1/(x**2)"
      ],
      "execution_count": 94,
      "outputs": []
    },
    {
      "cell_type": "code",
      "metadata": {
        "colab": {
          "base_uri": "https://localhost:8080/"
        },
        "id": "noPGeDvZxuG5",
        "outputId": "da326e61-b9db-4a50-bcb4-12299e1dba93"
      },
      "source": [
        "solver = NewtonRhaphson(my_func, my_func_dot, 0.1,\n",
        "                        None, None, 6)\n",
        "\n",
        "solver.iterate()"
      ],
      "execution_count": 95,
      "outputs": [
        {
          "output_type": "stream",
          "text": [
            "Começando o método com p_0 = 0.1\n",
            "-------\n",
            "Iteração 1\n",
            "p = 0.1685840734641021\n",
            "f(p) = 2.790165782730929\n",
            "Variação em p = 0.06858407346410209\n",
            "\n",
            "Iteração 2\n",
            "p = 0.24788223072093987\n",
            "f(p) = 0.89258114374777\n",
            "Variação em p = 0.07929815725683778\n",
            "\n",
            "Iteração 3\n",
            "p = 0.3027274149213992\n",
            "f(p) = 0.16170909811856182\n",
            "Variação em p = 0.054845184200459335\n",
            "\n",
            "Iteração 4\n",
            "p = 0.3175470653567207\n",
            "f(p) = 0.007546825550524883\n",
            "Variação em p = 0.014819650435321519\n",
            "\n",
            "Iteração 5\n",
            "p = 0.31830805810480395\n",
            "f(p) = 1.8042520032679477e-05\n",
            "Variação em p = 0.0007609927480832224\n",
            "\n",
            "Iteração 6\n",
            "p = 0.31830988617329187\n",
            "f(p) = 1.0361933533431511e-10\n",
            "Variação em p = 1.8280684879190545e-06\n",
            "\n",
            "Excedeu o número máximo de iterações (6)\n",
            "\n",
            "-------\n",
            "p = 0.31830988617329187\n"
          ],
          "name": "stdout"
        }
      ]
    },
    {
      "cell_type": "markdown",
      "metadata": {
        "id": "K29KXUAP5QNe"
      },
      "source": [
        "Teste com a função f(x) = x² - 2"
      ]
    },
    {
      "cell_type": "code",
      "metadata": {
        "id": "ZEXRzJBA5ZE0"
      },
      "source": [
        "def my_func(x):\n",
        "  return x**2 - 2\n",
        "\n",
        "def my_func_dot(x):\n",
        "  return 2*x"
      ],
      "execution_count": 98,
      "outputs": []
    },
    {
      "cell_type": "code",
      "metadata": {
        "colab": {
          "base_uri": "https://localhost:8080/"
        },
        "id": "-EquqDRj5kca",
        "outputId": "d114203a-c311-4a13-94f0-a166b1ac6255"
      },
      "source": [
        "solver = NewtonRhaphson(my_func, my_func_dot, 5,\n",
        "                        None, None, 5)\n",
        "\n",
        "solver.iterate()"
      ],
      "execution_count": 105,
      "outputs": [
        {
          "output_type": "stream",
          "text": [
            "Começando o método com p_0 = 5\n",
            "-------\n",
            "Iteração 1\n",
            "p = 2.7\n",
            "f(p) = 5.290000000000001\n",
            "Variação em p = 2.3\n",
            "\n",
            "Iteração 2\n",
            "p = 1.7203703703703703\n",
            "f(p) = 0.9596742112482852\n",
            "Variação em p = 0.9796296296296299\n",
            "\n",
            "Iteração 3\n",
            "p = 1.44145536817765\n",
            "f(p) = 0.0777935784481647\n",
            "Variação em p = 0.27891500219272025\n",
            "\n",
            "Iteração 4\n",
            "p = 1.414470981367771\n",
            "f(p) = 0.0007281571315052027\n",
            "Variação em p = 0.026984386809879135\n",
            "\n",
            "Iteração 5\n",
            "p = 1.4142135857968836\n",
            "f(p) = 6.625247950253765e-08\n",
            "Variação em p = 0.000257395570887331\n",
            "\n",
            "Excedeu o número máximo de iterações (5)\n",
            "\n",
            "-------\n",
            "p = 1.4142135857968836\n"
          ],
          "name": "stdout"
        }
      ]
    },
    {
      "cell_type": "code",
      "metadata": {
        "colab": {
          "base_uri": "https://localhost:8080/"
        },
        "id": "k4wyyRWeUCqJ",
        "outputId": "b8d9a15e-9d5b-4fd7-f572-94f20836ccfe"
      },
      "source": [
        "solver = SecantMethod(my_func, 5, 2.7,\n",
        "                        None, None, 5)\n",
        "\n",
        "solver.iterate()"
      ],
      "execution_count": 108,
      "outputs": [
        {
          "output_type": "stream",
          "text": [
            "Começando o método com:\n",
            "p_0 = 5\n",
            "p_1 = 2.7\n",
            "-------\n",
            "Iteração 2\n",
            "p = 2.012987012987013\n",
            "f(p) = 2.0521167144543773\n",
            "Variação em p = 0.6870129870129871\n",
            "\n",
            "Iteração 3\n",
            "p = 1.5775695783962524\n",
            "f(p) = 0.4887257746813298\n",
            "Variação em p = 0.43541743459076065\n",
            "\n",
            "Iteração 4\n",
            "p = 1.44145536817765\n",
            "f(p) = 0.0777935784481647\n",
            "Variação em p = 0.13611421021860237\n",
            "\n",
            "Iteração 5\n",
            "p = 1.4156875855906106\n",
            "f(p) = 0.004171339995372225\n",
            "Variação em p = 0.02576778258703949\n",
            "\n",
            "Excedeu o número máximo de iterações (5)\n",
            "\n",
            "-------\n",
            "p = 1.4156875855906106\n"
          ],
          "name": "stdout"
        }
      ]
    },
    {
      "cell_type": "markdown",
      "metadata": {
        "id": "XL5dJsgX4g6L"
      },
      "source": [
        "## Exercícios do teste\n",
        "\n",
        "3)"
      ]
    },
    {
      "cell_type": "code",
      "metadata": {
        "id": "uqy3hgTT4gos"
      },
      "source": [
        "def f_x(x):\n",
        "  return 125 * x**3 + (225) * x**2 - (240) * x - 198\n",
        "\n",
        "def f_x_dot(x):\n",
        "  return 375*x**2 + 450*x - 240"
      ],
      "execution_count": 121,
      "outputs": []
    },
    {
      "cell_type": "code",
      "metadata": {
        "colab": {
          "base_uri": "https://localhost:8080/"
        },
        "id": "en0LRGe5Z_Mg",
        "outputId": "d73f714e-409f-493f-b849-2b5cccc8ad68"
      },
      "source": [
        "solver = NewtonRhaphson(f_x, f_x_dot, 39/100,\n",
        "                        None, None, 5)\n",
        "\n",
        "solver.iterate()"
      ],
      "execution_count": 126,
      "outputs": [
        {
          "output_type": "stream",
          "text": [
            "Começando o método com p_0 = 0.39\n",
            "-------\n",
            "Iteração 1\n",
            "p = -33.10582914572862\n",
            "f(p) = -4281135.241404385\n",
            "Variação em p = 33.49582914572862\n",
            "\n",
            "Iteração 2\n",
            "p = -22.29108133420945\n",
            "f(p) = -1267580.7252386063\n",
            "Variação em p = 10.814747811519169\n",
            "\n",
            "Iteração 3\n",
            "p = -15.091520949533278\n",
            "f(p) = -374975.6753577289\n",
            "Variação em p = 7.1995603846761735\n",
            "\n",
            "Iteração 4\n",
            "p = -10.307237989208401\n",
            "f(p) = -110699.48476630148\n",
            "Variação em p = 4.784282960324877\n",
            "\n",
            "Iteração 5\n",
            "p = -7.140905909048891\n",
            "f(p) = -32527.47548919906\n",
            "Variação em p = 3.16633208015951\n",
            "\n",
            "Excedeu o número máximo de iterações (5)\n",
            "\n",
            "-------\n",
            "p = -7.140905909048891\n"
          ],
          "name": "stdout"
        }
      ]
    }
  ]
}