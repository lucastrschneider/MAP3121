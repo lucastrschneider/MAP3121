{
  "nbformat": 4,
  "nbformat_minor": 0,
  "metadata": {
    "colab": {
      "name": "Zeros de Funções.ipynb",
      "provenance": [],
      "authorship_tag": "ABX9TyPbFox4FwQZqrAxyFHL4wht",
      "include_colab_link": true
    },
    "kernelspec": {
      "name": "python3",
      "display_name": "Python 3"
    },
    "language_info": {
      "name": "python"
    }
  },
  "cells": [
    {
      "cell_type": "markdown",
      "metadata": {
        "id": "view-in-github",
        "colab_type": "text"
      },
      "source": [
        "<a href=\"https://colab.research.google.com/github/lucastrschneider/MAP3121/blob/main/Zeros_de_Fun%C3%A7%C3%B5es.ipynb\" target=\"_parent\"><img src=\"https://colab.research.google.com/assets/colab-badge.svg\" alt=\"Open In Colab\"/></a>"
      ]
    },
    {
      "cell_type": "markdown",
      "metadata": {
        "id": "iJcRJrxssyda"
      },
      "source": [
        "# Método de Newton-Rhapsody"
      ]
    },
    {
      "cell_type": "code",
      "metadata": {
        "id": "qSkXaFXm0WKw"
      },
      "source": [
        "import math"
      ],
      "execution_count": 87,
      "outputs": []
    },
    {
      "cell_type": "code",
      "metadata": {
        "id": "fWTIvwQ1sxes"
      },
      "source": [
        "class NewtonRhaphson:\n",
        "  def __init__(self, f, f_dot, start_point, epsilon_x=1e-5, epsilon_y=None, i_max=None, print_iteration=True):\n",
        "    self.f = f\n",
        "    self.f_dot = f_dot\n",
        "    self.epsilon_x = epsilon_x\n",
        "    self.epsilon_y = epsilon_y\n",
        "    self.i_max = i_max\n",
        "    self.print_iteration = print_iteration\n",
        "\n",
        "    self.p_i = start_point\n",
        "\n",
        "    self.i = 0\n",
        "    self.p = self.p_i\n",
        "\n",
        "  def iterate_once(self):\n",
        "    last_p_i = self.p_i\n",
        "    self.p_i = self.p_i - (self.f(self.p_i) / self.f_dot(self.p_i))\n",
        "    self.i += 1\n",
        "\n",
        "    x_variation = abs(self.p_i - last_p_i)\n",
        "    y_error = self.f(self.p_i)\n",
        "    stop_condition = (False, False)\n",
        "\n",
        "    if self.epsilon_x:\n",
        "      if x_variation < self.epsilon_x:\n",
        "        stop_condition = (True, stop_condition[1])\n",
        "\n",
        "    if self.epsilon_y:\n",
        "      if y_error < self.epsilon_y:\n",
        "        stop_condition = (stop_condition[0], True)\n",
        "\n",
        "\n",
        "    if self.print_iteration:\n",
        "      print(f'Iteração {self.i}\\np = {self.p_i}\\nf(p) = {y_error}\\nVariação em p = {x_variation}\\n')\n",
        "\n",
        "    return stop_condition\n",
        "\n",
        "  def iterate(self):\n",
        "    print(f'Começando o método com p_0 = {self.p_i}\\n-------')\n",
        "    running = True\n",
        "    \n",
        "    while(running):\n",
        "      x_condition, y_condition = self.iterate_once()\n",
        "\n",
        "      if x_condition:\n",
        "        print(f'A variação em p foi menor que {self.epsilon_x}\\n')\n",
        "        running = False\n",
        "\n",
        "      if y_condition:\n",
        "        print(f'O erro de f(p) foi menor que {self.epsilon_y}\\n')\n",
        "        running = False\n",
        "\n",
        "      if self.i >= self.i_max:\n",
        "        print(f'Excedeu o número máximo de iterações ({self.i})\\n')\n",
        "        running = False\n",
        "\n",
        "    print('-------')\n",
        "    print(f'p = {self.p_i}')"
      ],
      "execution_count": 88,
      "outputs": []
    },
    {
      "cell_type": "markdown",
      "metadata": {
        "id": "6HOWmDCW3pJu"
      },
      "source": [
        "Teste com a função 1/x - π\n",
        "\n",
        "A raíz da função deve aproximar o valor de 1/π"
      ]
    },
    {
      "cell_type": "code",
      "metadata": {
        "id": "cKdcV_31xLVL"
      },
      "source": [
        "def my_func(x):\n",
        "  return 1/x - math.pi\n",
        "\n",
        "def my_func_dot(x):\n",
        "  return -1/(x**2)"
      ],
      "execution_count": 89,
      "outputs": []
    },
    {
      "cell_type": "code",
      "metadata": {
        "colab": {
          "base_uri": "https://localhost:8080/"
        },
        "id": "noPGeDvZxuG5",
        "outputId": "f4768665-f466-480b-d73d-845448c72903"
      },
      "source": [
        "solver = NewtonRhaphson(my_func, my_func_dot, 0.1,\n",
        "                        None, None, 6)\n",
        "\n",
        "solver.iterate()"
      ],
      "execution_count": 90,
      "outputs": [
        {
          "output_type": "stream",
          "text": [
            "Começando o método com p_0 = 0.1\n",
            "-------\n",
            "Iteração 1\n",
            "p = 0.1685840734641021\n",
            "f(p) = 2.790165782730929\n",
            "Variação em p = 0.06858407346410209\n",
            "\n",
            "Iteração 2\n",
            "p = 0.24788223072093987\n",
            "f(p) = 0.89258114374777\n",
            "Variação em p = 0.07929815725683778\n",
            "\n",
            "Iteração 3\n",
            "p = 0.3027274149213992\n",
            "f(p) = 0.16170909811856182\n",
            "Variação em p = 0.054845184200459335\n",
            "\n",
            "Iteração 4\n",
            "p = 0.3175470653567207\n",
            "f(p) = 0.007546825550524883\n",
            "Variação em p = 0.014819650435321519\n",
            "\n",
            "Iteração 5\n",
            "p = 0.31830805810480395\n",
            "f(p) = 1.8042520032679477e-05\n",
            "Variação em p = 0.0007609927480832224\n",
            "\n",
            "Iteração 6\n",
            "p = 0.31830988617329187\n",
            "f(p) = 1.0361933533431511e-10\n",
            "Variação em p = 1.8280684879190545e-06\n",
            "\n",
            "Excedeu o número máximo de iterações (6)\n",
            "\n",
            "-------\n",
            "p = 0.31830988617329187\n"
          ],
          "name": "stdout"
        }
      ]
    },
    {
      "cell_type": "markdown",
      "metadata": {
        "id": "K29KXUAP5QNe"
      },
      "source": [
        "Teste com a função f(x) = x³ + x² - 20"
      ]
    },
    {
      "cell_type": "code",
      "metadata": {
        "id": "ZEXRzJBA5ZE0"
      },
      "source": [
        "def my_func(x):\n",
        "  return x**3 + x**2 - 20\n",
        "\n",
        "def my_func_dot(x):\n",
        "  return 3*x**2 + 2*x"
      ],
      "execution_count": 91,
      "outputs": []
    },
    {
      "cell_type": "code",
      "metadata": {
        "colab": {
          "base_uri": "https://localhost:8080/"
        },
        "id": "-EquqDRj5kca",
        "outputId": "69959e4b-5858-422b-825d-4fd9ae49522c"
      },
      "source": [
        "solver = NewtonRhaphson(my_func, my_func_dot, 5,\n",
        "                        None, None, 6)\n",
        "\n",
        "solver.iterate()"
      ],
      "execution_count": 92,
      "outputs": [
        {
          "output_type": "stream",
          "text": [
            "Começando o método com p_0 = 5\n",
            "-------\n",
            "Iteração 1\n",
            "p = 3.4705882352941178\n",
            "f(p) = 33.84815794830043\n",
            "Variação em p = 1.5294117647058822\n",
            "\n",
            "Iteração 2\n",
            "p = 2.6848128599982046\n",
            "f(p) = 6.560942097164073\n",
            "Variação em p = 0.7857753752959131\n",
            "\n",
            "Iteração 3\n",
            "p = 2.441763568112744\n",
            "f(p) = 0.5205148318583888\n",
            "Variação em p = 0.24304929188546076\n",
            "\n",
            "Iteração 4\n",
            "p = 2.4189040474163335\n",
            "f(p) = 0.004338499231401727\n",
            "Variação em p = 0.022859520696410396\n",
            "\n",
            "Iteração 5\n",
            "p = 2.418710287416668\n",
            "f(p) = 3.099739487311126e-07\n",
            "Variação em p = 0.00019375999966531054\n",
            "\n",
            "Iteração 6\n",
            "p = 2.4187102735710657\n",
            "f(p) = 0.0\n",
            "Variação em p = 1.3845602442330573e-08\n",
            "\n",
            "Excedeu o número máximo de iterações (6)\n",
            "\n",
            "-------\n",
            "p = 2.4187102735710657\n"
          ],
          "name": "stdout"
        }
      ]
    },
    {
      "cell_type": "markdown",
      "metadata": {
        "id": "XL5dJsgX4g6L"
      },
      "source": [
        "Exercícios do teste\n",
        "\n",
        "1)"
      ]
    },
    {
      "cell_type": "code",
      "metadata": {
        "id": "uqy3hgTT4gos"
      },
      "source": [
        ""
      ],
      "execution_count": 92,
      "outputs": []
    }
  ]
}