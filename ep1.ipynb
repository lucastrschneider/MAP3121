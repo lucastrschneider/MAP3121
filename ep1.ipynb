{
  "nbformat": 4,
  "nbformat_minor": 0,
  "metadata": {
    "colab": {
      "name": "ep1.ipynb",
      "provenance": [],
      "collapsed_sections": [],
      "include_colab_link": true
    },
    "kernelspec": {
      "name": "python3",
      "display_name": "Python 3"
    },
    "language_info": {
      "name": "python"
    }
  },
  "cells": [
    {
      "cell_type": "markdown",
      "metadata": {
        "id": "view-in-github",
        "colab_type": "text"
      },
      "source": [
        "<a href=\"https://colab.research.google.com/github/lucastrschneider/MAP3121/blob/main/ep1.ipynb\" target=\"_parent\"><img src=\"https://colab.research.google.com/assets/colab-badge.svg\" alt=\"Open In Colab\"/></a>"
      ]
    },
    {
      "cell_type": "markdown",
      "metadata": {
        "id": "d1aaAaybONzO"
      },
      "source": [
        "# Exercício Programa 1 - MAP3121\n",
        "\n",
        "Jean Carlos Mello Xavier Faria - 11259628\n",
        "\n",
        "Lucas Tonini Rosenberg Schneider - 11260850\n",
        "\n",
        "---"
      ]
    },
    {
      "cell_type": "code",
      "metadata": {
        "id": "uxGOTYZyONFd"
      },
      "source": [
        "import numpy as np\n",
        "import matplotlib.pyplot as plt"
      ],
      "execution_count": 1,
      "outputs": []
    },
    {
      "cell_type": "markdown",
      "metadata": {
        "id": "8mKrnvyWaJWG"
      },
      "source": [
        "## Método QR"
      ]
    },
    {
      "cell_type": "code",
      "metadata": {
        "id": "m24RON-laLfN"
      },
      "source": [
        "class QRMethod:\n",
        "  def __init__(self, a_alfa, a_beta, spectral=True, print_steps=False, print_matrices=False):\n",
        "    self.n = a_alfa.shape[0]\n",
        "    self.spectral = spectral\n",
        "    self.k = 0\n",
        "    self.print_steps = print_steps\n",
        "    self.print_matrices = print_matrices\n",
        "\n",
        "    assert a_alfa.shape[0] == self.n\n",
        "    assert a_beta.shape[0] == self.n-1\n",
        "\n",
        "    self.last_alfa = np.ndarray(self.n, dtype=float)\n",
        "    self.last_beta = np.ndarray(self.n-1, dtype=float)\n",
        "    self.actual_alfa = np.ndarray(self.n, dtype=float)\n",
        "    self.actual_beta = np.ndarray(self.n-1, dtype=float)\n",
        "    self.auto_vec = np.identity(self.n, dtype=float)\n",
        "\n",
        "    np.copyto(self.actual_alfa, a_alfa)\n",
        "    np.copyto(self.actual_beta, a_beta)\n",
        "\n",
        "  def _wilkinson_coeficient(self):\n",
        "    pass\n",
        "\n",
        "  def _givens_coeficients(self, k):\n",
        "    alfa = self.actual_alfa[k]\n",
        "    beta = self.actual_beta[k]\n",
        "\n",
        "    # Método normal\n",
        "    div = np.sqrt(alfa**2 + beta**2)\n",
        "    ck = alfa / div\n",
        "    sk = -beta / div\n",
        "\n",
        "    # Método mais estável\n",
        "    # if abs(alfa) > abs(beta):\n",
        "    #   tau = -beta/alfa\n",
        "    #   ck = 1 / np.sqrt(1 + tau ** 2)\n",
        "    #   sk = ck * tau\n",
        "    # else:\n",
        "    #   tau = -alfa/beta\n",
        "    #   sk = 1 / np.sqrt(1 + tau ** 2)\n",
        "    #   ck = sk * tau\n",
        "    \n",
        "    if self.print_steps:\n",
        "      print(f'{(ck, sk)}')\n",
        "    return (ck, sk)\n",
        "\n",
        "  def _get_R(self, gama):\n",
        "    R = np.zeros((self.n, self.n))\n",
        "    for i in range(self.n-1):\n",
        "      R[i,i] = self.actual_alfa[i]\n",
        "      R[i,i+1] = gama[i]\n",
        "\n",
        "    R[self.n-1, self.n-1] = self.actual_alfa[self.n-1]\n",
        "\n",
        "    return R\n",
        "\n",
        "  def get_A(self):\n",
        "    A = np.zeros((self.n, self.n))\n",
        "    for i in range(self.n-1):\n",
        "      A[i,i] = self.actual_alfa[i]\n",
        "      A[i,i+1] = self.actual_beta[i]\n",
        "      A[i+1,i] = self.actual_beta[i]\n",
        "    A[self.n-1, self.n-1] = self.actual_alfa[self.n-1]\n",
        "\n",
        "    return A\n",
        "\n",
        "  def get_Qi(self, i, ci, si):\n",
        "    Qi = np.identity(self.n)\n",
        "    Qi[i,i] = ci\n",
        "    Qi[i+1,i+1] = ci\n",
        "    Qi[i,i+1] = -si\n",
        "    Qi[i+1,i] = si\n",
        "\n",
        "    return Qi\n",
        "\n",
        "  def get_Q(self, ck, sk):\n",
        "    Q = np.identity(self.n)\n",
        "    for i in range(self.n-1):\n",
        "      Q = np.matmul(Q, self.get_Qi(i, ck[i], sk[i]).T)\n",
        "\n",
        "    return Q\n",
        "\n",
        "  def _iterate_once(self, epsilon):\n",
        "\n",
        "    if self.print_matrices:\n",
        "      Ai = self.get_A()\n",
        "\n",
        "    # Euristica de Wilkinson (coeficiente uk)\n",
        "    if self.spectral and self.k > 0:\n",
        "      uk = self._wilkinson_coeficient()\n",
        "    else:\n",
        "      uk = 0\n",
        "    \n",
        "\n",
        "    np.copyto(self.last_alfa, self.actual_alfa)\n",
        "    np.copyto(self.last_beta, self.actual_beta)\n",
        "    gama = self.actual_beta.copy()\n",
        "\n",
        "    self.actual_alfa -= uk\n",
        "\n",
        "    # Coeficientes de Givens (ck e sk)\n",
        "    ck = np.ndarray(self.n-1, dtype=float)\n",
        "    sk = np.ndarray(self.n-1, dtype=float)\n",
        "    \n",
        "    if self.print_steps:\n",
        "      print(f'\\n\\nIteração {self.k+1}:')\n",
        "      print(f'\\nDeslocamento espectral: uk = {uk}')\n",
        "      print(f'\\nCoeficientes de Givens:')\n",
        "      \n",
        "\n",
        "    # Alfa e beta da matriz R(k)\n",
        "    for i in range(self.n-1):\n",
        "      # Calculo dos coefientes da iteração atual\n",
        "      ck[i], sk[i] = self._givens_coeficients(i)\n",
        "\n",
        "      alfa_i = self.actual_alfa[i] * ck[i] - self.actual_beta[i] * sk[i]\n",
        "      gama_i = gama[i] * ck[i] - self.actual_alfa[i+1] * sk[i]\n",
        "      alfa_j = gama[i] * sk[i] + self.actual_alfa[i+1] * ck[i]\n",
        "\n",
        "      self.actual_alfa[i] = alfa_i\n",
        "      gama[i] = gama_i\n",
        "      self.actual_alfa[i+1] = alfa_j\n",
        "\n",
        "      if i < self.n-2:\n",
        "        gama[i+1] = gama[i+1] * ck[i]\n",
        "\n",
        "    if self.print_steps:\n",
        "      print(f'\\nMatriz R')\n",
        "      print(f'Deslocamento espectral: uk = {uk}')\n",
        "      print(f'Coeficientes de Givens:')\n",
        "\n",
        "    if self.print_matrices:\n",
        "      Ri = self._get_R(gama)\n",
        "\n",
        "    # Alfa e beta da matriz A(k+1)\n",
        "    for i in range(self.n-1):\n",
        "      self.actual_alfa[i] = self.actual_alfa[i] * ck[i] - gama[i] * sk[i]\n",
        "      self.actual_beta[i] = -self.actual_alfa[i+1] * sk[i]\n",
        "      self.actual_alfa[i+1] = self.actual_alfa[i+1] * ck[i]\n",
        "\n",
        "      print(self.actual_alfa[i], self.actual_beta[i])\n",
        "      print(self.actual_alfa[i+1])\n",
        "\n",
        "    # Correção por deslocamente espectral\n",
        "    self.actual_alfa += uk\n",
        "\n",
        "    if self.print_matrices:\n",
        "      Ai_plus_1 = self.get_A()\n",
        "      Qi = self.get_Q(ck, sk)\n",
        "    \n",
        "    # Atualiza autovetores\n",
        "\n",
        "    self.k += 1\n",
        "\n",
        "    if self.print_matrices:\n",
        "      print(Ai)\n",
        "      print(Ri)\n",
        "      print(Qi)\n",
        "      print(Ai_plus_1)\n",
        "    # return (Ai, Ri, Qi, Ai_plus_1)\n",
        "\n",
        "  def iterate(self, epsilon):\n",
        "    pass\n"
      ],
      "execution_count": 8,
      "outputs": []
    },
    {
      "cell_type": "code",
      "metadata": {
        "id": "T6YACQWyf7tD"
      },
      "source": [
        "alfa = 4*np.ones(3)\n",
        "beta = 3*np.ones(2)\n",
        "\n",
        "method = QRMethod(alfa, beta, False, True, True)"
      ],
      "execution_count": 9,
      "outputs": []
    },
    {
      "cell_type": "code",
      "metadata": {
        "colab": {
          "base_uri": "https://localhost:8080/"
        },
        "id": "UIOa7uclgnYk",
        "outputId": "af4d345f-1ae5-402c-e2f2-a1621ddab1e3"
      },
      "source": [
        "method._iterate_once(0)"
      ],
      "execution_count": 10,
      "outputs": [
        {
          "output_type": "stream",
          "text": [
            "\n",
            "Iteration 1:\n",
            "Deslocamento espectral: uk = 0\n",
            "Coeficientes de Givens:\n",
            "(0.8, -0.6)\n",
            "(0.422885465331124, -0.9061831399952655)\n",
            "6.880000000000001 1.9863534428696221\n",
            "2.648471257159496\n",
            "5.324379562043797 -0.437956204379562\n",
            "-0.20437956204379565\n",
            "[[4. 3. 0.]\n",
            " [3. 4. 3.]\n",
            " [0. 3. 4.]]\n",
            "[[ 5.          4.8         0.        ]\n",
            " [ 0.          3.31058907  4.63965768]\n",
            " [ 0.          0.         -0.48329767]]\n",
            "[[ 0.8        -0.25373128  0.54370988]\n",
            " [ 0.6         0.33830837 -0.72494651]\n",
            " [ 0.          0.90618314  0.42288547]]\n",
            "[[ 6.88        1.98635344  0.        ]\n",
            " [ 1.98635344  5.32437956 -0.4379562 ]\n",
            " [ 0.         -0.4379562  -0.20437956]]\n"
          ],
          "name": "stdout"
        }
      ]
    }
  ]
}